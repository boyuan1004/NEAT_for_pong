{
  "cells": [
    {
      "cell_type": "markdown",
      "metadata": {
        "id": "bA8bcZirdZug"
      },
      "source": [
        "# NEAT_for_Pong\n",
        "Using **NeuroEvolution of Augmenting Topologies** (NEAT) to train a Pong Game.\n",
        "\n",
        "Reference:\n",
        " - Pong_in_Pygame (Author: clear-code-projects)\n",
        "    + Youtube: https://www.youtube.com/playlist?list=PL8ui5HK3oSiEk9HaKoVPxSZA03rmr9Z0k\n",
        "    + Github: https://github.com/clear-code-projects/Pong_in_Pygame\n",
        " - NEAT-Pong (Author: John-Trager)\n",
        "    + Github: https://github.com/John-Trager/NEAT-Pong\n",
        " - NEAT paper http://nn.cs.utexas.edu/downloads/papers/stanley.cec02.pdf\n",
        " - NEAT-python https://neat-python.readthedocs.io/en/latest/index.html\n"
      ]
    },
    {
      "cell_type": "markdown",
      "metadata": {
        "id": "veMAvUf5ocTR"
      },
      "source": [
        "## **Preparation**\n",
        "---"
      ]
    },
    {
      "cell_type": "markdown",
      "metadata": {
        "id": "qlrmAXCJoqap"
      },
      "source": [
        "###Install neat-python\n",
        "1. Obtain the source code by cloning the source repository from Github\n",
        "2. Run setup.py in the neat-python direcory"
      ]
    },
    {
      "cell_type": "code",
      "execution_count": null,
      "metadata": {
        "colab": {
          "base_uri": "https://localhost:8080/"
        },
        "id": "O5j06iFnKAvc",
        "outputId": "17ba3ed8-0a22-455a-e894-9d60a89460da"
      },
      "outputs": [
        {
          "name": "stdout",
          "output_type": "stream",
          "text": [
            "Cloning into 'neat-python'...\n",
            "remote: Enumerating objects: 5311, done.\u001b[K\n",
            "remote: Counting objects: 100% (253/253), done.\u001b[K\n",
            "remote: Compressing objects: 100% (157/157), done.\u001b[K\n",
            "remote: Total 5311 (delta 125), reused 164 (delta 93), pack-reused 5058\u001b[K\n",
            "Receiving objects: 100% (5311/5311), 2.25 MiB | 7.01 MiB/s, done.\n",
            "Resolving deltas: 100% (3638/3638), done.\n"
          ]
        }
      ],
      "source": [
        "!git clone https://github.com/CodeReclaimers/neat-python.git"
      ]
    },
    {
      "cell_type": "code",
      "execution_count": null,
      "metadata": {
        "colab": {
          "base_uri": "https://localhost:8080/"
        },
        "id": "wQb89akNKXFU",
        "outputId": "0fa8cc7d-263a-4afb-fef6-9dddd5956319"
      },
      "outputs": [
        {
          "name": "stdout",
          "output_type": "stream",
          "text": [
            "/content/neat-python\n",
            "running install\n",
            "/usr/local/lib/python3.10/dist-packages/setuptools/_distutils/cmd.py:66: SetuptoolsDeprecationWarning: setup.py install is deprecated.\n",
            "!!\n",
            "\n",
            "        ********************************************************************************\n",
            "        Please avoid running ``setup.py`` directly.\n",
            "        Instead, use pypa/build, pypa/installer, pypa/build or\n",
            "        other standards-based tools.\n",
            "\n",
            "        See https://blog.ganssle.io/articles/2021/10/setup-py-deprecated.html for details.\n",
            "        ********************************************************************************\n",
            "\n",
            "!!\n",
            "  self.initialize_options()\n",
            "/usr/local/lib/python3.10/dist-packages/setuptools/_distutils/cmd.py:66: EasyInstallDeprecationWarning: easy_install command is deprecated.\n",
            "!!\n",
            "\n",
            "        ********************************************************************************\n",
            "        Please avoid running ``setup.py`` and ``easy_install``.\n",
            "        Instead, use pypa/build, pypa/installer, pypa/build or\n",
            "        other standards-based tools.\n",
            "\n",
            "        See https://github.com/pypa/setuptools/issues/917 for details.\n",
            "        ********************************************************************************\n",
            "\n",
            "!!\n",
            "  self.initialize_options()\n",
            "running bdist_egg\n",
            "running egg_info\n",
            "creating neat_python.egg-info\n",
            "writing neat_python.egg-info/PKG-INFO\n",
            "writing dependency_links to neat_python.egg-info/dependency_links.txt\n",
            "writing top-level names to neat_python.egg-info/top_level.txt\n",
            "writing manifest file 'neat_python.egg-info/SOURCES.txt'\n",
            "reading manifest file 'neat_python.egg-info/SOURCES.txt'\n",
            "adding license file 'LICENSE'\n",
            "writing manifest file 'neat_python.egg-info/SOURCES.txt'\n",
            "installing library code to build/bdist.linux-x86_64/egg\n",
            "running install_lib\n",
            "running build_py\n",
            "creating build\n",
            "creating build/lib\n",
            "creating build/lib/neat\n",
            "copying neat/__init__.py -> build/lib/neat\n",
            "copying neat/genome.py -> build/lib/neat\n",
            "copying neat/stagnation.py -> build/lib/neat\n",
            "copying neat/graphs.py -> build/lib/neat\n",
            "copying neat/attributes.py -> build/lib/neat\n",
            "copying neat/reproduction.py -> build/lib/neat\n",
            "copying neat/statistics.py -> build/lib/neat\n",
            "copying neat/population.py -> build/lib/neat\n",
            "copying neat/checkpoint.py -> build/lib/neat\n",
            "copying neat/threaded.py -> build/lib/neat\n",
            "copying neat/genes.py -> build/lib/neat\n",
            "copying neat/distributed.py -> build/lib/neat\n",
            "copying neat/reporting.py -> build/lib/neat\n",
            "copying neat/species.py -> build/lib/neat\n",
            "copying neat/math_util.py -> build/lib/neat\n",
            "copying neat/aggregations.py -> build/lib/neat\n",
            "copying neat/parallel.py -> build/lib/neat\n",
            "copying neat/config.py -> build/lib/neat\n",
            "copying neat/activations.py -> build/lib/neat\n",
            "creating build/lib/neat/iznn\n",
            "copying neat/iznn/__init__.py -> build/lib/neat/iznn\n",
            "creating build/lib/neat/nn\n",
            "copying neat/nn/__init__.py -> build/lib/neat/nn\n",
            "copying neat/nn/recurrent.py -> build/lib/neat/nn\n",
            "copying neat/nn/feed_forward.py -> build/lib/neat/nn\n",
            "creating build/lib/neat/ctrnn\n",
            "copying neat/ctrnn/__init__.py -> build/lib/neat/ctrnn\n",
            "creating build/bdist.linux-x86_64\n",
            "creating build/bdist.linux-x86_64/egg\n",
            "creating build/bdist.linux-x86_64/egg/neat\n",
            "copying build/lib/neat/__init__.py -> build/bdist.linux-x86_64/egg/neat\n",
            "copying build/lib/neat/genome.py -> build/bdist.linux-x86_64/egg/neat\n",
            "copying build/lib/neat/stagnation.py -> build/bdist.linux-x86_64/egg/neat\n",
            "copying build/lib/neat/graphs.py -> build/bdist.linux-x86_64/egg/neat\n",
            "copying build/lib/neat/attributes.py -> build/bdist.linux-x86_64/egg/neat\n",
            "copying build/lib/neat/reproduction.py -> build/bdist.linux-x86_64/egg/neat\n",
            "copying build/lib/neat/statistics.py -> build/bdist.linux-x86_64/egg/neat\n",
            "creating build/bdist.linux-x86_64/egg/neat/iznn\n",
            "copying build/lib/neat/iznn/__init__.py -> build/bdist.linux-x86_64/egg/neat/iznn\n",
            "copying build/lib/neat/population.py -> build/bdist.linux-x86_64/egg/neat\n",
            "copying build/lib/neat/checkpoint.py -> build/bdist.linux-x86_64/egg/neat\n",
            "copying build/lib/neat/threaded.py -> build/bdist.linux-x86_64/egg/neat\n",
            "copying build/lib/neat/genes.py -> build/bdist.linux-x86_64/egg/neat\n",
            "copying build/lib/neat/distributed.py -> build/bdist.linux-x86_64/egg/neat\n",
            "copying build/lib/neat/reporting.py -> build/bdist.linux-x86_64/egg/neat\n",
            "copying build/lib/neat/species.py -> build/bdist.linux-x86_64/egg/neat\n",
            "copying build/lib/neat/math_util.py -> build/bdist.linux-x86_64/egg/neat\n",
            "copying build/lib/neat/aggregations.py -> build/bdist.linux-x86_64/egg/neat\n",
            "copying build/lib/neat/parallel.py -> build/bdist.linux-x86_64/egg/neat\n",
            "copying build/lib/neat/config.py -> build/bdist.linux-x86_64/egg/neat\n",
            "copying build/lib/neat/activations.py -> build/bdist.linux-x86_64/egg/neat\n",
            "creating build/bdist.linux-x86_64/egg/neat/nn\n",
            "copying build/lib/neat/nn/__init__.py -> build/bdist.linux-x86_64/egg/neat/nn\n",
            "copying build/lib/neat/nn/recurrent.py -> build/bdist.linux-x86_64/egg/neat/nn\n",
            "copying build/lib/neat/nn/feed_forward.py -> build/bdist.linux-x86_64/egg/neat/nn\n",
            "creating build/bdist.linux-x86_64/egg/neat/ctrnn\n",
            "copying build/lib/neat/ctrnn/__init__.py -> build/bdist.linux-x86_64/egg/neat/ctrnn\n",
            "byte-compiling build/bdist.linux-x86_64/egg/neat/__init__.py to __init__.cpython-310.pyc\n",
            "byte-compiling build/bdist.linux-x86_64/egg/neat/genome.py to genome.cpython-310.pyc\n",
            "byte-compiling build/bdist.linux-x86_64/egg/neat/stagnation.py to stagnation.cpython-310.pyc\n",
            "byte-compiling build/bdist.linux-x86_64/egg/neat/graphs.py to graphs.cpython-310.pyc\n",
            "byte-compiling build/bdist.linux-x86_64/egg/neat/attributes.py to attributes.cpython-310.pyc\n",
            "byte-compiling build/bdist.linux-x86_64/egg/neat/reproduction.py to reproduction.cpython-310.pyc\n",
            "byte-compiling build/bdist.linux-x86_64/egg/neat/statistics.py to statistics.cpython-310.pyc\n",
            "byte-compiling build/bdist.linux-x86_64/egg/neat/iznn/__init__.py to __init__.cpython-310.pyc\n",
            "byte-compiling build/bdist.linux-x86_64/egg/neat/population.py to population.cpython-310.pyc\n",
            "byte-compiling build/bdist.linux-x86_64/egg/neat/checkpoint.py to checkpoint.cpython-310.pyc\n",
            "byte-compiling build/bdist.linux-x86_64/egg/neat/threaded.py to threaded.cpython-310.pyc\n",
            "byte-compiling build/bdist.linux-x86_64/egg/neat/genes.py to genes.cpython-310.pyc\n",
            "byte-compiling build/bdist.linux-x86_64/egg/neat/distributed.py to distributed.cpython-310.pyc\n",
            "byte-compiling build/bdist.linux-x86_64/egg/neat/reporting.py to reporting.cpython-310.pyc\n",
            "byte-compiling build/bdist.linux-x86_64/egg/neat/species.py to species.cpython-310.pyc\n",
            "byte-compiling build/bdist.linux-x86_64/egg/neat/math_util.py to math_util.cpython-310.pyc\n",
            "byte-compiling build/bdist.linux-x86_64/egg/neat/aggregations.py to aggregations.cpython-310.pyc\n",
            "byte-compiling build/bdist.linux-x86_64/egg/neat/parallel.py to parallel.cpython-310.pyc\n",
            "byte-compiling build/bdist.linux-x86_64/egg/neat/config.py to config.cpython-310.pyc\n",
            "byte-compiling build/bdist.linux-x86_64/egg/neat/activations.py to activations.cpython-310.pyc\n",
            "byte-compiling build/bdist.linux-x86_64/egg/neat/nn/__init__.py to __init__.cpython-310.pyc\n",
            "byte-compiling build/bdist.linux-x86_64/egg/neat/nn/recurrent.py to recurrent.cpython-310.pyc\n",
            "byte-compiling build/bdist.linux-x86_64/egg/neat/nn/feed_forward.py to feed_forward.cpython-310.pyc\n",
            "byte-compiling build/bdist.linux-x86_64/egg/neat/ctrnn/__init__.py to __init__.cpython-310.pyc\n",
            "creating build/bdist.linux-x86_64/egg/EGG-INFO\n",
            "copying neat_python.egg-info/PKG-INFO -> build/bdist.linux-x86_64/egg/EGG-INFO\n",
            "copying neat_python.egg-info/SOURCES.txt -> build/bdist.linux-x86_64/egg/EGG-INFO\n",
            "copying neat_python.egg-info/dependency_links.txt -> build/bdist.linux-x86_64/egg/EGG-INFO\n",
            "copying neat_python.egg-info/top_level.txt -> build/bdist.linux-x86_64/egg/EGG-INFO\n",
            "zip_safe flag not set; analyzing archive contents...\n",
            "creating dist\n",
            "creating 'dist/neat_python-0.93-py3.10.egg' and adding 'build/bdist.linux-x86_64/egg' to it\n",
            "removing 'build/bdist.linux-x86_64/egg' (and everything under it)\n",
            "Processing neat_python-0.93-py3.10.egg\n",
            "Copying neat_python-0.93-py3.10.egg to /usr/local/lib/python3.10/dist-packages\n",
            "Adding neat-python 0.93 to easy-install.pth file\n",
            "\n",
            "Installed /usr/local/lib/python3.10/dist-packages/neat_python-0.93-py3.10.egg\n",
            "Processing dependencies for neat-python==0.93\n",
            "Finished processing dependencies for neat-python==0.93\n"
          ]
        }
      ],
      "source": [
        "%cd neat-python\n",
        "!python setup.py install\n",
        "import neat"
      ]
    },
    {
      "cell_type": "markdown",
      "metadata": {
        "id": "BeN0Db3HfGqM"
      },
      "source": [
        "# **install pygame**"
      ]
    },
    {
      "cell_type": "code",
      "execution_count": null,
      "metadata": {
        "colab": {
          "base_uri": "https://localhost:8080/"
        },
        "id": "ZLIvqdJAKi-b",
        "outputId": "e7bb5187-aa06-4040-e221-fb1d2ece976e"
      },
      "outputs": [
        {
          "name": "stdout",
          "output_type": "stream",
          "text": [
            "Requirement already satisfied: pygame in /usr/local/lib/python3.10/dist-packages (2.5.2)\n"
          ]
        }
      ],
      "source": [
        "!pip install pygame"
      ]
    },
    {
      "cell_type": "markdown",
      "metadata": {
        "id": "3YdAiuuMqzW3"
      },
      "source": [
        "To enable pygame on Colab, we have to fool the system to think it has a video card access.\n",
        "\n",
        "So we assign a dummy video driver.\n",
        "\n",
        "And the display is achieved by matplotlib im_show()"
      ]
    },
    {
      "cell_type": "code",
      "execution_count": null,
      "metadata": {
        "id": "GGE0sWfrqzBA"
      },
      "outputs": [],
      "source": [
        "import os\n",
        "os.environ[\"SDL_VIDEODRIVER\"] = \"dummy\"\n",
        "%matplotlib inline"
      ]
    },
    {
      "cell_type": "markdown",
      "metadata": {
        "id": "-OHrNxoQrFh6"
      },
      "source": [
        "Git-clone repository from my [Github](https://github.com/yenzu0329/NEAT_for_Pong)\n",
        "\n",
        "The repo contains\n",
        "- **result**  (folder that save the training result and demo video)\n",
        "- pong.py\n",
        "- winner.pkl\n",
        "- config-feedforward.txt\n",
        "- main.py  (code for training)\n",
        "- test.py  (code for testing)\n",
        "- visualize.py (for visualize the network of NEAT)\n"
      ]
    },
    {
      "cell_type": "code",
      "execution_count": null,
      "metadata": {
        "colab": {
          "base_uri": "https://localhost:8080/"
        },
        "id": "Mf0w-h5EKvdO",
        "outputId": "22a38189-c6f6-43c4-c301-de8eb22c98c6"
      },
      "outputs": [
        {
          "name": "stdout",
          "output_type": "stream",
          "text": [
            "/content\n",
            "Cloning into 'NEAT_for_Pong'...\n",
            "remote: Enumerating objects: 39, done.\u001b[K\n",
            "remote: Counting objects: 100% (39/39), done.\u001b[K\n",
            "remote: Compressing objects: 100% (33/33), done.\u001b[K\n",
            "remote: Total 39 (delta 9), reused 31 (delta 5), pack-reused 0\u001b[K\n",
            "Receiving objects: 100% (39/39), 901.68 KiB | 3.58 MiB/s, done.\n",
            "Resolving deltas: 100% (9/9), done.\n"
          ]
        }
      ],
      "source": [
        "%cd ..\n",
        "!git clone https://github.com/yenzu0329/NEAT_for_Pong.git"
      ]
    },
    {
      "cell_type": "markdown",
      "metadata": {
        "id": "2BWQ6IRYwmFA"
      },
      "source": [
        "# **Training**\n",
        "---"
      ]
    },
    {
      "cell_type": "markdown",
      "metadata": {
        "id": "tPcdS2ORwpyc"
      },
      "source": [
        "First import necessary libraries"
      ]
    },
    {
      "cell_type": "code",
      "execution_count": null,
      "metadata": {
        "colab": {
          "base_uri": "https://localhost:8080/"
        },
        "id": "35nM4lXewl1h",
        "outputId": "30860904-8763-425a-ed04-32e279ec0575"
      },
      "outputs": [
        {
          "name": "stdout",
          "output_type": "stream",
          "text": [
            "/content/NEAT_for_Pong\n",
            "pygame 2.5.2 (SDL 2.28.2, Python 3.10.12)\n",
            "Hello from the pygame community. https://www.pygame.org/contribute.html\n"
          ]
        }
      ],
      "source": [
        "%cd NEAT_for_Pong\n",
        "import neat\n",
        "import pickle, gzip\n",
        "import os\n",
        "import visualize\n",
        "from pong import *"
      ]
    },
    {
      "cell_type": "markdown",
      "metadata": {
        "id": "8whLdN5Lz2dx"
      },
      "source": [
        "- `save_object` - save the model to a pickle file\n",
        "- `load_object` - load the model from a pickle file\n"
      ]
    },
    {
      "cell_type": "code",
      "execution_count": null,
      "metadata": {
        "id": "vLwDAfBIxrWu"
      },
      "outputs": [],
      "source": [
        "def save_object(obj, filename):\n",
        "    with gzip.open(filename, 'w', compresslevel=5) as f:\n",
        "        pickle.dump(obj, f, protocol=pickle.HIGHEST_PROTOCOL)\n",
        "\n",
        "def load_object(filename):\n",
        "    with gzip.open(filename) as f:\n",
        "        obj = pickle.load(f)\n",
        "        return obj\n",
        "\n"
      ]
    },
    {
      "cell_type": "markdown",
      "metadata": {
        "id": "CFeQXk5j1CzH"
      },
      "source": [
        "### fitness\n",
        "Below part is the main training loop of one generation. At the beginning, we initialize `pop_size` of game_managers and create independent ForwardNetwork for each of them. (`pop_size` can be set in the config file, in this case, `pop_size` = 25)\n",
        "\n",
        "Then, we sample action and record fitness for each player. Once a player loses the ball, we pop the game_manager, genomes and ForwardNetwork from the lists.\n",
        "\n",
        "The reward policy show bellow:\n",
        "- Ball survive: +0.01\n",
        "- Opponent loses the ball: +3\n",
        "- Player loses the ball: -0.01\n",
        "---\n",
        "The while loop will be terminated when\n",
        "1. none of the genomes survives\n",
        "2.there is a player get fitness > 500"
      ]
    },
    {
      "cell_type": "code",
      "execution_count": null,
      "metadata": {
        "id": "5iS4GsAt1CHu"
      },
      "outputs": [],
      "source": [
        "UP = 0\n",
        "DOWN = 1\n",
        "STOP = 2\n",
        "GEN = 0\n",
        "FRAME = 0\n",
        "def fitness(genomes, config):\n",
        "    global GEN, FRAME, WIN_ON\n",
        "    nets = []\n",
        "    ge = []\n",
        "    game_managers = []\n",
        "    GEN += 1\n",
        "\n",
        "    for _, g in genomes:\n",
        "        tmp_color = (randint(80,220),randint(80,220),randint(80,220))\n",
        "        player = Player(WIDTH - 10, HEIGHT/2, tmp_color)\n",
        "        opponent = Opponent(5, HEIGHT/2, tmp_color)\n",
        "        paddles = [player, opponent]\n",
        "        ball = Ball(randint(int(WIDTH*0.4),int(WIDTH*0.6)), randint(int(HEIGHT*0.4),int(HEIGHT*0.6)),\n",
        "                     color = tmp_color, paddles = paddles)\n",
        "        game_manager = GameManager(ball=ball, player=player, opponent=opponent)\n",
        "\n",
        "        net = neat.nn.FeedForwardNetwork.create(g, config)\n",
        "        nets.append(net)\n",
        "        game_managers.append(game_manager)\n",
        "        g.fitness = 0\n",
        "        ge.append(g)\n",
        "\n",
        "    run = True\n",
        "    while run and len(game_managers) > 0:\n",
        "        for event in pygame.event.get():\n",
        "            if event.type == pygame.QUIT:\n",
        "                run = False\n",
        "                pygame.quit()\n",
        "                sys.exit()\n",
        "\n",
        "        for i, gm in enumerate(game_managers):\n",
        "            outputs = nets[i].activate((abs(gm.player.get_x()-gm.ball.get_x()),\n",
        "                                        gm.player.get_y(),\n",
        "                                        gm.ball.get_y(),\n",
        "                                        gm.ball.get_vel_direction()))\n",
        "            action = outputs.index(max(outputs))\n",
        "            if(action == UP):           gm.player.move_up()\n",
        "            elif(action == DOWN):       gm.player.move_down()\n",
        "            else:                       gm.player.stop()\n",
        "\n",
        "        # Background Stuff\n",
        "        screen.fill(bg_color)\n",
        "        pygame.draw.rect(screen,light_grey,middle_strip)\n",
        "        score_label = basic_font.render(\"Gens: \"+str(GEN-1), True, light_grey)\n",
        "        screen.blit(score_label, (10, 10))\n",
        "\n",
        "        # Run the game\n",
        "        for i, gm in enumerate(game_managers):\n",
        "            reward = gm.run_game()\n",
        "            ge[i].fitness += 0.01\n",
        "            if ge[i].fitness > 500:\n",
        "                run = False\n",
        "                break\n",
        "            if reward == -1:\n",
        "                ge[i].fitness -= 0.01\n",
        "                nets.pop(i)\n",
        "                winner = ge.pop(i)\n",
        "                game_managers.pop(i)\n",
        "\n",
        "\n",
        "            elif reward == 1:\n",
        "                ge[i].fitness += 3.0\n",
        "\n",
        "        # Rendering\n",
        "        pygame.display.flip()\n",
        "        pygame.image.save(screen,'video/' + str(FRAME) + \".jpg\")\n",
        "        FRAME += 1\n",
        "        clock.tick(100)\n",
        "\n",
        "\n",
        "    if len(game_managers) != 0:\n",
        "        for g in ge:\n",
        "            if g.fitness > winner.fitness:  winner = g\n",
        "    node_names = {-1: 'distance_x', -2: 'player_y', -3: 'ball_y', -4: 'ball_direction',\n",
        "            0: 'UP', 1: 'DOWN', 2:'STOP'}\n",
        "    visualize.draw_net(config, winner, view=False, node_names=node_names, filename='net_'+str(GEN-1))"
      ]
    },
    {
      "cell_type": "markdown",
      "metadata": {
        "id": "Js-LTOmyAerh"
      },
      "source": [
        "# run\n",
        "This funtion can be roughly divided to three part\n",
        "1. create a NEAT network object (`neat.Population`)\n",
        "2. start training NEAT network and save the best genome\n",
        "3. visualize the network hierarchy and the charts of training process"
      ]
    },
    {
      "cell_type": "code",
      "execution_count": null,
      "metadata": {
        "id": "mntXS5fk9bQ9"
      },
      "outputs": [],
      "source": [
        "def run(config_path, model_name):\n",
        "    config = neat.config.Config(neat.DefaultGenome, neat.DefaultReproduction,\n",
        "                    neat.DefaultSpeciesSet, neat.DefaultStagnation, config_path)\n",
        "    p = neat.Population(config)\n",
        "    p.add_reporter(neat.StdOutReporter(True))\n",
        "    stats = neat.StatisticsReporter()\n",
        "    p.add_reporter(stats)\n",
        "    winner = p.run(fitness_function=fitness, n=1000) # start training NEAT network\n",
        "    print('\\nBest genome:\\n{!s}'.format(winner))\n",
        "    print('save the network as {}'.format(model_name))\n",
        "    save_object(winner, model_name)  # save the best genome\n",
        "\n",
        "    # visualize the network hierarchy\n",
        "    node_names = {-1: 'distance_x', -2: 'player_y', -3: 'ball_y', -4: 'ball_direction',\n",
        "                  0: 'UP', 1: 'DOWN', 2:'STOP'}\n",
        "\n",
        "    neat.visualize.draw_net(config, winner, view=True, node_names=node_names)\n",
        "    neat.visualize.plot_stats(stats, ylog=False, view=True)\n",
        "    neat.visualize.plot_species(stats, view=True)\n"
      ]
    },
    {
      "cell_type": "code",
      "execution_count": null,
      "metadata": {
        "colab": {
          "background_save": true,
          "base_uri": "https://localhost:8080/"
        },
        "id": "P6SGF6DeBzMf",
        "outputId": "42a2b53f-10d3-4441-af57-f72db3eb10bf"
      },
      "outputs": [
        {
          "name": "stdout",
          "output_type": "stream",
          "text": [
            "\n",
            " ****** Running generation 0 ****** \n",
            "\n"
          ]
        }
      ],
      "source": [
        "if __name__ == \"__main__\":\n",
        "    local_dir = os.getcwd()\n",
        "    config_path = os.path.join(local_dir, \"config-feedforward.txt\")\n",
        "    model_name = os.path.join(local_dir, 'winner.pkl')\n",
        "    video_dir = os.path.join(local_dir, 'video')\n",
        "    if not os.path.isdir(video_dir):\n",
        "        os.mkdir(video_dir)\n",
        "    run(config_path, model_name)"
      ]
    },
    {
      "cell_type": "markdown",
      "metadata": {
        "id": "b3FgOo0BNBvN"
      },
      "source": [
        "Show the final network hierarchy"
      ]
    },
    {
      "cell_type": "code",
      "execution_count": null,
      "metadata": {
        "colab": {
          "base_uri": "https://localhost:8080/",
          "height": 138
        },
        "id": "dNd7XjzrCMev",
        "outputId": "e7f2135b-68b5-413d-b607-5cf472d693a9"
      },
      "outputs": [
        {
          "data": {
            "image/png": "[encoded data removed]",
            "text/plain": [
              "<PIL.Image.Image image mode=RGB size=2689x291 at 0x7EFFF0F73650>"
            ]
          },
          "metadata": {},
          "output_type": "display_data"
        }
      ],
      "source": [
        "import cv2\n",
        "from google.colab.patches import cv2_imshow\n",
        "image_path = os.path.join(local_dir, \"net.png\")\n",
        "\n",
        "image = cv2.imread(image_path)\n",
        "cv2_imshow(image)"
      ]
    },
    {
      "cell_type": "code",
      "execution_count": null,
      "metadata": {
        "id": "8NjE91K5PmxE"
      },
      "outputs": [],
      "source": [
        "def make_video():\n",
        "    global FRAME\n",
        "    vedio_filename = os.path.join(local_dir,'video/demo_video.mp4')\n",
        "    fourcc = cv2.VideoWriter_fourcc(*'mp4v')\n",
        "    videowriter = cv2.VideoWriter(vedio_filename, fourcc, 60, (480, 360))\n",
        "    for i in range(FRAME):\n",
        "        img_filename = os.path.join(local_dir,'video/'+str(i)+'.jpg')\n",
        "        frame = cv2.imread(img_filename)\n",
        "        videowriter.write(frame)\n",
        "    videowriter.release()\n",
        "make_video()"
      ]
    },
    {
      "cell_type": "code",
      "execution_count": null,
      "metadata": {
        "colab": {
          "base_uri": "https://localhost:8080/",
          "height": 34
        },
        "id": "Ll-w1gUIWa8E",
        "outputId": "ce8845c0-e915-4aa6-e359-6139d74777de"
      },
      "outputs": [
        {
          "data": {
            "application/javascript": [
              "\n",
              "    async function download(id, filename, size) {\n",
              "      if (!google.colab.kernel.accessAllowed) {\n",
              "        return;\n",
              "      }\n",
              "      const div = document.createElement('div');\n",
              "      const label = document.createElement('label');\n",
              "      label.textContent = `Downloading \"${filename}\": `;\n",
              "      div.appendChild(label);\n",
              "      const progress = document.createElement('progress');\n",
              "      progress.max = size;\n",
              "      div.appendChild(progress);\n",
              "      document.body.appendChild(div);\n",
              "\n",
              "      const buffers = [];\n",
              "      let downloaded = 0;\n",
              "\n",
              "      const channel = await google.colab.kernel.comms.open(id);\n",
              "      // Send a message to notify the kernel that we're ready.\n",
              "      channel.send({})\n",
              "\n",
              "      for await (const message of channel.messages) {\n",
              "        // Send a message to notify the kernel that we're ready.\n",
              "        channel.send({})\n",
              "        if (message.buffers) {\n",
              "          for (const buffer of message.buffers) {\n",
              "            buffers.push(buffer);\n",
              "            downloaded += buffer.byteLength;\n",
              "            progress.value = downloaded;\n",
              "          }\n",
              "        }\n",
              "      }\n",
              "      const blob = new Blob(buffers, {type: 'application/binary'});\n",
              "      const a = document.createElement('a');\n",
              "      a.href = window.URL.createObjectURL(blob);\n",
              "      a.download = filename;\n",
              "      div.appendChild(a);\n",
              "      a.click();\n",
              "      div.remove();\n",
              "    }\n",
              "  "
            ],
            "text/plain": [
              "<IPython.core.display.Javascript object>"
            ]
          },
          "metadata": {},
          "output_type": "display_data"
        },
        {
          "data": {
            "application/javascript": [
              "download(\"download_fdd7b607-6418-4392-af80-5dc46521b072\", \"demo_video.mp4\", 18213887)"
            ],
            "text/plain": [
              "<IPython.core.display.Javascript object>"
            ]
          },
          "metadata": {},
          "output_type": "display_data"
        }
      ],
      "source": [
        "from google.colab import files\n",
        "files.download('/content/NEAT_for_Pong/video/demo_video.mp4')"
      ]
    },
    {
      "cell_type": "code",
      "execution_count": null,
      "metadata": {
        "id": "g_r7_x0HXl8o"
      },
      "outputs": [],
      "source": []
    }
  ],
  "metadata": {
    "accelerator": "GPU",
    "colab": {
      "provenance": []
    },
    "kernelspec": {
      "display_name": "Python 3",
      "name": "python3"
    },
    "language_info": {
      "name": "python"
    }
  },
  "nbformat": 4,
  "nbformat_minor": 0
}